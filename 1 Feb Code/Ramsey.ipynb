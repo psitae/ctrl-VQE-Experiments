{
 "cells": [
  {
   "cell_type": "code",
   "execution_count": 16,
   "metadata": {},
   "outputs": [],
   "source": [
    "%matplotlib inline\n",
    "from pyquil import Program, get_qc\n",
    "from pyquil.gates import *\n",
    "import numpy as np\n",
    "import matplotlib.pyplot as plt\n",
    "import logging\n",
    "import time\n",
    "from IPython.display import clear_output\n",
    "import collections"
   ]
  },
  {
   "cell_type": "code",
   "execution_count": 17,
   "metadata": {},
   "outputs": [],
   "source": [
    "def live_plot(data_dict, figsize=(7,5), title='Ramsey'):\n",
    "    clear_output(wait=True)\n",
    "    plt.figure(figsize=figsize)\n",
    "    for label,data in data_dict.items():\n",
    "        plt.plot(data, label=label)\n",
    "    plt.title(title)\n",
    "    plt.grid(True)\n",
    "    plt.xlabel('Wait time')\n",
    "    plt.legend(loc='upper left') # the plot evolves to the right\n",
    "    plt.show()"
   ]
  },
  {
   "cell_type": "code",
   "execution_count": 18,
   "metadata": {},
   "outputs": [],
   "source": [
    "def ramsey(qubit, wait_time, shots=10_000):\n",
    "\n",
    "    p = Program(\n",
    "        \"DECLARE ro BIT\",\n",
    "        f\"RESET\",\n",
    "        f\"RX(pi/2) {qubit}\",\n",
    "        f\"DELAY {qubit} {wait_time}e-9\",\n",
    "        f\"RX(pi/2) {qubit}\",\n",
    "        f\"MEASURE {qubit} ro\"\n",
    "    ).wrap_in_numshots_loop(shots)\n",
    "        \n",
    "    return p"
   ]
  },
  {
   "cell_type": "code",
   "execution_count": 25,
   "metadata": {},
   "outputs": [
    {
     "data": {
      "image/png": "[encoded data removed]",
      "text/plain": [
       "<Figure size 504x360 with 1 Axes>"
      ]
     },
     "metadata": {
      "needs_background": "light"
     },
     "output_type": "display_data"
    }
   ],
   "source": [
    "# runtime parameters\n",
    "qubit = 0\n",
    "shots = 10_000\n",
    "qc = get_qc('Aspen-11')\n",
    "\n",
    "# live logging\n",
    "for handler in logging.root.handlers[:]:\n",
    "    logging.root.removeHandler(handler)\n",
    "    \n",
    "logging.basicConfig(filename='logs/ramsey.log', \n",
    "                    format='%(asctime)s%(msecs)03d - %(message)s', \n",
    "                    level=logging.INFO, \n",
    "                    datefmt='%d-%b-%y %H:%M:%S.')\n",
    "logging.info('------------------------------------------------------------------------------   Begin')\n",
    "\n",
    "# initialize loop\n",
    "times = np.linspace(0,100000,50)\n",
    "results = collections.defaultdict(list)\n",
    "\n",
    "for wait_time in times:\n",
    "\n",
    "    # get quil program and compile it (log compilation time)\n",
    "    prog = ramsey(qubit, wait_time, shots)\n",
    "    start_compile = time.time()\n",
    "    exe = qc.compiler.native_quil_to_executable(prog)\n",
    "    total_compile = time.time() - start_compile\n",
    "    logging.info(f'Program compiled in {total_compile:.3f} s')\n",
    "    \n",
    "    # run the program (and time it)\n",
    "    start_run = time.time()\n",
    "    #result = qc.run(exe)\n",
    "    # print(result)\n",
    "    result = qc.run(exe).readout_data.get('ro')\n",
    "    total_run = time.time() - start_run\n",
    "    \n",
    "    # update plot and log\n",
    "    probability = np.sum(result) / shots\n",
    "    results['Probability'].append(probability)\n",
    "    live_plot(results)\n",
    "    logging.info(f' wait time: {wait_time} \\t-- probability: {probability} \\t--- runtime: {total_run:.3f} seconds')\n",
    "    \n",
    "logging.info('Done\\n')"
   ]
  },
  {
   "cell_type": "code",
   "execution_count": null,
   "metadata": {},
   "outputs": [],
   "source": []
  }
 ],
 "metadata": {
  "kernelspec": {
   "display_name": "Python 3",
   "language": "python",
   "name": "python3"
  },
  "language_info": {
   "codemirror_mode": {
    "name": "ipython",
    "version": 3
   },
   "file_extension": ".py",
   "mimetype": "text/x-python",
   "name": "python",
   "nbconvert_exporter": "python",
   "pygments_lexer": "ipython3",
   "version": "3.8.6"
  }
 },
 "nbformat": 4,
 "nbformat_minor": 4
}
